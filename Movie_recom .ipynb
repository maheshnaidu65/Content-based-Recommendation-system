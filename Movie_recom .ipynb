{
  "nbformat": 4,
  "nbformat_minor": 0,
  "metadata": {
    "colab": {
      "name": "Movie_recom.ipynb",
      "version": "0.3.2",
      "provenance": [],
      "collapsed_sections": [],
      "toc_visible": true
    },
    "language_info": {
      "codemirror_mode": {
        "name": "ipython",
        "version": 3
      },
      "file_extension": ".py",
      "mimetype": "text/x-python",
      "name": "python",
      "nbconvert_exporter": "python",
      "pygments_lexer": "ipython3",
      "version": "3.6.7"
    },
    "kernelspec": {
      "display_name": "Python 3",
      "language": "python",
      "name": "python3"
    }
  },
  "cells": [
    {
      "cell_type": "markdown",
      "metadata": {
        "id": "eFGrwpjymLuS",
        "colab_type": "text"
      },
      "source": [
        "#Movie recommendation system based on content similarity\n",
        "\n",
        "##Content based recommendation system that suggests movies/ items based on similarity between movies with regards to genre, director, actors and Movie description\n",
        "\n"
      ]
    },
    {
      "cell_type": "code",
      "metadata": {
        "id": "FOFF9TsJpxvl",
        "colab_type": "code",
        "colab": {}
      },
      "source": [
        "import pandas as pd\n",
        "import numpy as np"
      ],
      "execution_count": 0,
      "outputs": []
    },
    {
      "cell_type": "code",
      "metadata": {
        "id": "Rc32o88Mvyjn",
        "colab_type": "code",
        "outputId": "2e1c0e65-ec3e-45ae-e2a2-cc77ad8f017f",
        "colab": {
          "base_uri": "https://localhost:8080/",
          "height": 569
        }
      },
      "source": [
        "#Reading csv file\n",
        "dt = pd.read_csv(\"IMDB-Movie-Data.csv\")\n",
        "dt.head()"
      ],
      "execution_count": 0,
      "outputs": [
        {
          "output_type": "execute_result",
          "data": {
            "text/html": [
              "<div>\n",
              "<style scoped>\n",
              "    .dataframe tbody tr th:only-of-type {\n",
              "        vertical-align: middle;\n",
              "    }\n",
              "\n",
              "    .dataframe tbody tr th {\n",
              "        vertical-align: top;\n",
              "    }\n",
              "\n",
              "    .dataframe thead th {\n",
              "        text-align: right;\n",
              "    }\n",
              "</style>\n",
              "<table border=\"1\" class=\"dataframe\">\n",
              "  <thead>\n",
              "    <tr style=\"text-align: right;\">\n",
              "      <th></th>\n",
              "      <th>Rank</th>\n",
              "      <th>Title</th>\n",
              "      <th>Genre</th>\n",
              "      <th>Description</th>\n",
              "      <th>Director</th>\n",
              "      <th>Actors</th>\n",
              "      <th>Year</th>\n",
              "      <th>Runtime (Minutes)</th>\n",
              "      <th>Rating</th>\n",
              "      <th>Votes</th>\n",
              "      <th>Revenue (Millions)</th>\n",
              "      <th>Metascore</th>\n",
              "    </tr>\n",
              "  </thead>\n",
              "  <tbody>\n",
              "    <tr>\n",
              "      <th>0</th>\n",
              "      <td>1</td>\n",
              "      <td>Guardians of the Galaxy</td>\n",
              "      <td>Action,Adventure,Sci-Fi</td>\n",
              "      <td>A group of intergalactic criminals are forced ...</td>\n",
              "      <td>James Gunn</td>\n",
              "      <td>Chris Pratt, Vin Diesel, Bradley Cooper, Zoe S...</td>\n",
              "      <td>2014</td>\n",
              "      <td>121</td>\n",
              "      <td>8.1</td>\n",
              "      <td>757074</td>\n",
              "      <td>333.13</td>\n",
              "      <td>76.0</td>\n",
              "    </tr>\n",
              "    <tr>\n",
              "      <th>1</th>\n",
              "      <td>2</td>\n",
              "      <td>Prometheus</td>\n",
              "      <td>Adventure,Mystery,Sci-Fi</td>\n",
              "      <td>Following clues to the origin of mankind, a te...</td>\n",
              "      <td>Ridley Scott</td>\n",
              "      <td>Noomi Rapace, Logan Marshall-Green, Michael Fa...</td>\n",
              "      <td>2012</td>\n",
              "      <td>124</td>\n",
              "      <td>7.0</td>\n",
              "      <td>485820</td>\n",
              "      <td>126.46</td>\n",
              "      <td>65.0</td>\n",
              "    </tr>\n",
              "    <tr>\n",
              "      <th>2</th>\n",
              "      <td>3</td>\n",
              "      <td>Split</td>\n",
              "      <td>Horror,Thriller</td>\n",
              "      <td>Three girls are kidnapped by a man with a diag...</td>\n",
              "      <td>M. Night Shyamalan</td>\n",
              "      <td>James McAvoy, Anya Taylor-Joy, Haley Lu Richar...</td>\n",
              "      <td>2016</td>\n",
              "      <td>117</td>\n",
              "      <td>7.3</td>\n",
              "      <td>157606</td>\n",
              "      <td>138.12</td>\n",
              "      <td>62.0</td>\n",
              "    </tr>\n",
              "    <tr>\n",
              "      <th>3</th>\n",
              "      <td>4</td>\n",
              "      <td>Sing</td>\n",
              "      <td>Animation,Comedy,Family</td>\n",
              "      <td>In a city of humanoid animals, a hustling thea...</td>\n",
              "      <td>Christophe Lourdelet</td>\n",
              "      <td>Matthew McConaughey,Reese Witherspoon, Seth Ma...</td>\n",
              "      <td>2016</td>\n",
              "      <td>108</td>\n",
              "      <td>7.2</td>\n",
              "      <td>60545</td>\n",
              "      <td>270.32</td>\n",
              "      <td>59.0</td>\n",
              "    </tr>\n",
              "    <tr>\n",
              "      <th>4</th>\n",
              "      <td>5</td>\n",
              "      <td>Suicide Squad</td>\n",
              "      <td>Action,Adventure,Fantasy</td>\n",
              "      <td>A secret government agency recruits some of th...</td>\n",
              "      <td>David Ayer</td>\n",
              "      <td>Will Smith, Jared Leto, Margot Robbie, Viola D...</td>\n",
              "      <td>2016</td>\n",
              "      <td>123</td>\n",
              "      <td>6.2</td>\n",
              "      <td>393727</td>\n",
              "      <td>325.02</td>\n",
              "      <td>40.0</td>\n",
              "    </tr>\n",
              "  </tbody>\n",
              "</table>\n",
              "</div>"
            ],
            "text/plain": [
              "   Rank                    Title  ... Revenue (Millions) Metascore\n",
              "0     1  Guardians of the Galaxy  ...             333.13      76.0\n",
              "1     2               Prometheus  ...             126.46      65.0\n",
              "2     3                    Split  ...             138.12      62.0\n",
              "3     4                     Sing  ...             270.32      59.0\n",
              "4     5            Suicide Squad  ...             325.02      40.0\n",
              "\n",
              "[5 rows x 12 columns]"
            ]
          },
          "metadata": {
            "tags": []
          },
          "execution_count": 133
        }
      ]
    },
    {
      "cell_type": "markdown",
      "metadata": {
        "id": "2c4N0CJjoPfo",
        "colab_type": "text"
      },
      "source": [
        "**Extracting Textual Data for Interpretation**\n",
        "\n",
        "In this step, relevant textual data of the movie is collected. This data is crucial to draw similarity in the movies depending on features like Actors, Director, Genre, descriptive words etc,."
      ]
    },
    {
      "cell_type": "markdown",
      "metadata": {
        "id": "qaqEGg-Cqqv1",
        "colab_type": "text"
      },
      "source": [
        "When we're using actor's or director's name for capturing the similarity, we have to take care of both the first names and the last names. If two actors have the same first name, the model may try to draw a correlation between the movies of these two actors, which may be very different movies. Hence, to avoid this, we use only the last names since last names are usually different. "
      ]
    },
    {
      "cell_type": "code",
      "metadata": {
        "id": "s7f9L13jvyjv",
        "colab_type": "code",
        "colab": {}
      },
      "source": [
        "# creating 4 columns for the 4 actors\n",
        "dt[['Actor1','Actor2','Actor3','Actor4']] = dt.Actors.str.split(\",\", expand = True) \n",
        "\n",
        "#removing missing data from the concerned attributes\n",
        "data = dt.dropna(subset = ['Actor1','Actor2','Actor3','Actor4'])"
      ],
      "execution_count": 0,
      "outputs": []
    },
    {
      "cell_type": "code",
      "metadata": {
        "id": "VDmv0ixv4YDJ",
        "colab_type": "code",
        "colab": {}
      },
      "source": [
        "# splitting first names and last names\n",
        "data['Actor1'] = data['Actor1'].apply(lambda x: x.split())\n",
        "data['Actor2'] = data['Actor2'].apply(lambda x: x.split())\n",
        "data['Actor3'] = data['Actor3'].apply(lambda x: x.split())\n",
        "data['Actor4'] = data['Actor4'].apply(lambda x: x.split())"
      ],
      "execution_count": 0,
      "outputs": []
    },
    {
      "cell_type": "code",
      "metadata": {
        "id": "8pG_9NXCBLqG",
        "colab_type": "code",
        "colab": {}
      },
      "source": [
        "\n",
        "# choosing only the last name\n",
        "data['Last1'] = [x[-1] for x in data['Actor1']]\n",
        "data['Last2'] = [x[-1] for x in data['Actor2']]\n",
        "data['Last3'] = [x[-1] for x in data['Actor3']]\n",
        "data['Last4'] = [x[-1] for x in data['Actor4']]\n"
      ],
      "execution_count": 0,
      "outputs": []
    },
    {
      "cell_type": "code",
      "metadata": {
        "id": "eg-OFZzZEgrw",
        "colab_type": "code",
        "colab": {}
      },
      "source": [
        "# similar steps for the directors\n",
        "data.Director = data.Director.apply(lambda x: x.split())"
      ],
      "execution_count": 0,
      "outputs": []
    },
    {
      "cell_type": "code",
      "metadata": {
        "id": "RZiy2ImVEyl-",
        "colab_type": "code",
        "colab": {}
      },
      "source": [
        "data['Director_Last'] = [x[-1] for x in data.Director]"
      ],
      "execution_count": 0,
      "outputs": []
    },
    {
      "cell_type": "markdown",
      "metadata": {
        "id": "OPMsgcsxvALO",
        "colab_type": "text"
      },
      "source": [
        "**Description Pre-processing**\n",
        "\n",
        "The description of movies needs to be pre-processed for modeling. Below are the steps involved."
      ]
    },
    {
      "cell_type": "code",
      "metadata": {
        "id": "kkG-2rhGMy46",
        "colab_type": "code",
        "colab": {}
      },
      "source": [
        "#Removing all characters other than aplpahbets\n",
        "data['Description'] = data['Description'].str.replace(\"[^a-zA-Z]\", \" \") "
      ],
      "execution_count": 0,
      "outputs": []
    },
    {
      "cell_type": "code",
      "metadata": {
        "id": "4zA4FuR7HBrM",
        "colab_type": "code",
        "colab": {}
      },
      "source": [
        "#removing all words that do not point to a certain sentiment like a, an ,the\n",
        "data['Description'] = data['Description'].apply(lambda x: ' '.join([w for w in x.split() if len(w)>3]))"
      ],
      "execution_count": 0,
      "outputs": []
    },
    {
      "cell_type": "code",
      "metadata": {
        "id": "HYzD5tRWMnf7",
        "colab_type": "code",
        "colab": {}
      },
      "source": [
        "#tokenization\n",
        "data['Description'] = data['Description'].apply(lambda x: x.split())\n"
      ],
      "execution_count": 0,
      "outputs": []
    },
    {
      "cell_type": "code",
      "metadata": {
        "id": "5L6_-v2fHs1u",
        "colab_type": "code",
        "colab": {}
      },
      "source": [
        "#stemming: including a common word for words same in meaning like play, playing \n",
        "from nltk.stem.porter import *\n",
        "stemmer = PorterStemmer()\n",
        "\n",
        "data.Description = data.Description.apply(lambda x: [stemmer.stem(i) for i in x]) # stemming\n",
        "\n"
      ],
      "execution_count": 0,
      "outputs": []
    },
    {
      "cell_type": "code",
      "metadata": {
        "id": "sMiPOUoKH6li",
        "colab_type": "code",
        "colab": {}
      },
      "source": [
        "#converting the lists so created back to a string \n",
        "data.Description = [str(x) for x in data.Description]"
      ],
      "execution_count": 0,
      "outputs": []
    },
    {
      "cell_type": "code",
      "metadata": {
        "id": "yDVQoSirJQd9",
        "colab_type": "code",
        "colab": {}
      },
      "source": [
        "#combining all text data to be used for analysis\n",
        "data['Text'] = data[['Description','Director_Last','Genre','Last1','Last2','Last3','Last4']].apply(lambda x:','.join(x),axis =1) "
      ],
      "execution_count": 0,
      "outputs": []
    },
    {
      "cell_type": "code",
      "metadata": {
        "id": "34T8vnRLBiVg",
        "colab_type": "code",
        "colab": {
          "base_uri": "https://localhost:8080/",
          "height": 121
        },
        "outputId": "7fd76b6b-7f4b-40cb-bf2c-d7b56a48e6a5"
      },
      "source": [
        "data['Text'].head()"
      ],
      "execution_count": 164,
      "outputs": [
        {
          "output_type": "execute_result",
          "data": {
            "text/plain": [
              "0    ['group', 'intergalact', 'crimin', 'forc', 'wo...\n",
              "1    ['follow', 'clue', 'origin', 'mankind', 'team'...\n",
              "2    ['three', 'girl', 'kidnap', 'with', 'diagnos',...\n",
              "3    ['citi', 'humanoid', 'anim', 'hustl', 'theater...\n",
              "4    ['secret', 'govern', 'agenc', 'recruit', 'some...\n",
              "Name: Text, dtype: object"
            ]
          },
          "metadata": {
            "tags": []
          },
          "execution_count": 164
        }
      ]
    },
    {
      "cell_type": "code",
      "metadata": {
        "id": "VJ8eAHeAJWHC",
        "colab_type": "code",
        "colab": {}
      },
      "source": [
        "#tokenizing the merged textual data and giving numbers to \n",
        "#words which is the frequency of their occurence\n",
        "from keras.preprocessing.text import Tokenizer\n",
        "tk = Tokenizer(lower = True)\n",
        "\n",
        "tk.fit_on_texts(data.Text)\n",
        "X_seq = tk.texts_to_sequences(data.Text)"
      ],
      "execution_count": 0,
      "outputs": []
    },
    {
      "cell_type": "code",
      "metadata": {
        "id": "bmq0EhEtKOf5",
        "colab_type": "code",
        "colab": {}
      },
      "source": [
        "#padding the sentences with zero till the length is zero \n",
        "from keras.preprocessing.sequence import pad_sequences\n",
        "X_pad = pad_sequences(X_seq, maxlen=100, padding='post')"
      ],
      "execution_count": 0,
      "outputs": []
    },
    {
      "cell_type": "markdown",
      "metadata": {
        "id": "JAieQJmJykVS",
        "colab_type": "text"
      },
      "source": [
        "### Implementing cosine similarity "
      ]
    },
    {
      "cell_type": "code",
      "metadata": {
        "id": "4DBzg86iHvz-",
        "colab_type": "code",
        "colab": {}
      },
      "source": [
        "\n",
        "from sklearn.metrics.pairwise import cosine_similarity\n",
        "\n",
        "# generating the cosine similarity matrix\n",
        "cosine_sim = cosine_similarity(X_pad,X_pad)\n",
        "\n",
        "Names = pd.Series(data.Title)"
      ],
      "execution_count": 0,
      "outputs": []
    },
    {
      "cell_type": "code",
      "metadata": {
        "id": "nYYyLHoG2xSO",
        "colab_type": "code",
        "outputId": "8fceddef-7909-41d7-f12a-d49955b15373",
        "colab": {
          "base_uri": "https://localhost:8080/",
          "height": 35
        }
      },
      "source": [
        "Names.index[10]"
      ],
      "execution_count": 0,
      "outputs": [
        {
          "output_type": "execute_result",
          "data": {
            "text/plain": [
              "10"
            ]
          },
          "metadata": {
            "tags": []
          },
          "execution_count": 148
        }
      ]
    },
    {
      "cell_type": "code",
      "metadata": {
        "id": "HuDT1t9bzovU",
        "colab_type": "code",
        "colab": {}
      },
      "source": [
        "# Function to recommend movies\n",
        "\n",
        "def Recommend(Title, Names = Names, cosine_sim = cosine_sim):\n",
        "  \n",
        "  recommendation = []\n",
        "  \n",
        "  idx = Names[Names == Title].index[0]\n",
        "  \n",
        "  score_series = pd.Series(cosine_sim[idx]).sort_values(ascending = False)\n",
        "  \n",
        "  for i in range(0,10):\n",
        "    recommendation.append(Names[score_series.index[i]])\n",
        "    \n",
        "  return recommendation"
      ],
      "execution_count": 0,
      "outputs": []
    },
    {
      "cell_type": "code",
      "metadata": {
        "id": "dwytMr3b3-s5",
        "colab_type": "code",
        "colab": {}
      },
      "source": [
        "#suggesting top 10 similar movies for a movie\n",
        "Title = \"Prometheus\"\n",
        "\n",
        "List = Recommend(Title)"
      ],
      "execution_count": 0,
      "outputs": []
    },
    {
      "cell_type": "code",
      "metadata": {
        "id": "4KLbZmi05MRl",
        "colab_type": "code",
        "outputId": "1a9651f1-f2ae-4675-fb9a-fe5dc0e0de02",
        "colab": {
          "base_uri": "https://localhost:8080/",
          "height": 55
        }
      },
      "source": [
        "print(List)"
      ],
      "execution_count": 163,
      "outputs": [
        {
          "output_type": "stream",
          "text": [
            "['Prometheus', 'Morgan', 'Black Swan', 'The Lost City of Z', 'Into the Woods', 'Pirates of the Caribbean: On Stranger Tides', 'The Imitation Game', 'Cars', 'Green Lantern', 'Chuck']\n"
          ],
          "name": "stdout"
        }
      ]
    }
  ]
}